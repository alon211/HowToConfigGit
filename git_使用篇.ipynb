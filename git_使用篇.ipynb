{
 "cells": [
  {
   "cell_type": "markdown",
   "metadata": {},
   "source": [
    "# pycharm中使用git"
   ]
  },
  {
   "cell_type": "markdown",
   "metadata": {},
   "source": [
    "pycharm中许多参数和git自带的操作定义都是相同的，如果以下没有包括的命令和参数请参考git user manual\n",
    "https://mirrors.edge.kernel.org/pub/software/scm/git/docs/user-manual.html"
   ]
  },
  {
   "cell_type": "markdown",
   "metadata": {},
   "source": [
    "git在pycharm中显示的状态颜色"
   ]
  },
  {
   "cell_type": "markdown",
   "metadata": {},
   "source": [
    "分别由4中颜色状态，白色，红色，绿色，蓝色"
   ]
  },
  {
   "attachments": {},
   "cell_type": "markdown",
   "metadata": {},
   "source": [
    "![image.png](https://github.com/alon211/HowToConfigGit/blob/master/git%E6%96%87%E4%BB%B6%E7%8A%B6%E6%80%81%E9%A2%9C%E8%89%B2.png?raw=true)"
   ]
  },
  {
   "cell_type": "markdown",
   "metadata": {},
   "source": [
    "白色:说明已经上传完毕"
   ]
  },
  {
   "cell_type": "markdown",
   "metadata": {},
   "source": [
    "红色:代表未添加到git的文件"
   ]
  },
  {
   "cell_type": "markdown",
   "metadata": {},
   "source": [
    "绿色:代表已经可以commit的文件，使用以下图标可以commit，注意commit只是准备要放到库里的文件"
   ]
  },
  {
   "attachments": {},
   "cell_type": "markdown",
   "metadata": {},
   "source": [
    "![image.png](https://github.com/alon211/HowToConfigGit/blob/master/commit.PNG?raw=true)"
   ]
  },
  {
   "cell_type": "markdown",
   "metadata": {},
   "source": [
    "下图中，1为需要commit的文件,2为commit按钮，如果需要commit+push需要将commit按钮展开"
   ]
  },
  {
   "cell_type": "markdown",
   "metadata": {},
   "source": [
    "![image.png](https://github.com/alon211/HowToConfigGit/blob/master/commit%20changes.png?raw=true)"
   ]
  },
  {
   "cell_type": "markdown",
   "metadata": {},
   "source": [
    "commit+push"
   ]
  },
  {
   "cell_type": "markdown",
   "metadata": {},
   "source": [
    "![image.png](https://github.com/alon211/HowToConfigGit/blob/master/commitandpush.png?raw=true)"
   ]
  },
  {
   "cell_type": "markdown",
   "metadata": {},
   "source": [
    "蓝色:代表在本地修改的文件"
   ]
  },
  {
   "cell_type": "markdown",
   "metadata": {},
   "source": [
    "push:只有绿色的和蓝色状态的可以被push，push是推送到远端服务器"
   ]
  },
  {
   "attachments": {},
   "cell_type": "markdown",
   "metadata": {},
   "source": [
    "![image.png](https://github.com/alon211/HowToConfigGit/blob/master/push.PNG?raw=true)"
   ]
  },
  {
   "cell_type": "markdown",
   "metadata": {},
   "source": [
    "master代表本地，origin：master代表远端"
   ]
  },
  {
   "cell_type": "markdown",
   "metadata": {},
   "source": [
    "![image.png](https://github.com/alon211/HowToConfigGit/blob/master/PushCommits.png?raw=true)"
   ]
  },
  {
   "cell_type": "markdown",
   "metadata": {},
   "source": [
    "## 分支操作"
   ]
  },
  {
   "cell_type": "markdown",
   "metadata": {},
   "source": [
    "默认初始化完的工程会有一个master分支，我们一般在tmp分支上开发，之后测试没问题再合并到master上，现在就新建一个tmp分支\n",
    "在pycharm的右下角有git的相关分支信息（前提是用了git），可以看到当前只有一个master分支（本地和origin）"
   ]
  },
  {
   "cell_type": "markdown",
   "metadata": {},
   "source": [
    "![image.png](https://github.com/alon211/HowToConfigGit/blob/master/newbranch.png?raw=true)"
   ]
  },
  {
   "cell_type": "markdown",
   "metadata": {},
   "source": [
    "从origin master checkout一个分支到本地命名为tmp"
   ]
  },
  {
   "cell_type": "markdown",
   "metadata": {},
   "source": [
    "![image.png](https://github.com/alon211/HowToConfigGit/blob/master/originmastercheckout.png?raw=true)"
   ]
  },
  {
   "cell_type": "raw",
   "metadata": {},
   "source": [
    "新建分支后需要切换分支才能到tmp"
   ]
  },
  {
   "cell_type": "markdown",
   "metadata": {},
   "source": [
    "![image.png](https://github.com/alon211/HowToConfigGit/blob/master/selectbranch1.png?raw=true)"
   ]
  },
  {
   "cell_type": "markdown",
   "metadata": {},
   "source": [
    "![image.png](https://github.com/alon211/HowToConfigGit/blob/master/selectbranch2.png?raw=true)"
   ]
  },
  {
   "cell_type": "markdown",
   "metadata": {},
   "source": [
    "## git glossary（git 术语表）\n",
    "https://mirrors.edge.kernel.org/pub/software/scm/git/docs/user-manual.html#def_head"
   ]
  },
  {
   "cell_type": "markdown",
   "metadata": {},
   "source": [
    "branch颜色代表的状态，黄色(HEAD)代表当前正在使用的分支，绿色代表本地分支，紫色代表远端分支"
   ]
  },
  {
   "cell_type": "markdown",
   "metadata": {},
   "source": [
    "![image.png](https://github.com/alon211/HowToConfigGit/blob/master/brachstatus.PNG?raw=true)"
   ]
  },
  {
   "cell_type": "code",
   "execution_count": null,
   "metadata": {},
   "outputs": [],
   "source": []
  }
 ],
 "metadata": {
  "kernelspec": {
   "display_name": "Python 3",
   "language": "python",
   "name": "python3"
  },
  "language_info": {
   "codemirror_mode": {
    "name": "ipython",
    "version": 3
   },
   "file_extension": ".py",
   "mimetype": "text/x-python",
   "name": "python",
   "nbconvert_exporter": "python",
   "pygments_lexer": "ipython3",
   "version": "3.6.8"
  }
 },
 "nbformat": 4,
 "nbformat_minor": 2
}
